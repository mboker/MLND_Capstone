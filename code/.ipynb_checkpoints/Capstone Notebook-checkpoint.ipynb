{
 "cells": [
  {
   "cell_type": "code",
   "execution_count": 1,
   "metadata": {
    "collapsed": false,
    "deletable": true,
    "editable": true
   },
   "outputs": [],
   "source": [
    "%matplotlib inline\n",
    "\n",
    "import tensorflow as tf\n",
    "import numpy as np\n",
    "import pandas as pd \n",
    "import matplotlib.pyplot as plt\n",
    "import network.builders as bldrs\n",
    "from sklearn.metrics import accuracy_score, f1_score"
   ]
  },
  {
   "cell_type": "markdown",
   "metadata": {
    "deletable": true,
    "editable": true
   },
   "source": [
    "### Data Preprocessing"
   ]
  },
  {
   "cell_type": "markdown",
   "metadata": {
    "deletable": true,
    "editable": true
   },
   "source": [
    "First, get all of the data, and combine the 25 headlines into one string for each row, stripping the junk characters off of the beginnings and ends of the strings, and adding the delimiter token.  Save this to a new file as a checkpoint."
   ]
  },
  {
   "cell_type": "code",
   "execution_count": 3,
   "metadata": {
    "collapsed": true,
    "deletable": true,
    "editable": true
   },
   "outputs": [],
   "source": [
    "data = pd.read_csv('../data/Combined_News_DJIA.csv', header=0, na_values=[])\n",
    "data.fillna('', inplace=True)\n",
    "data['Combined'] = ''\n",
    "for i in range(1, 26):\n",
    "    data['Combined'] += ' ||new_headline|| ' + \\\n",
    "                        data['Top'+str(i)].str.strip('b\\\\\\'\" ')\n",
    "    data = data.drop('Top'+str(i), axis=1)\n",
    "\n",
    "data.to_csv('../data/headlines_combined.csv')"
   ]
  },
  {
   "cell_type": "markdown",
   "metadata": {
    "deletable": true,
    "editable": true
   },
   "source": [
    "Now, split the combined strings into lists of words, remove stop words, and tokenize these lists."
   ]
  },
  {
   "cell_type": "code",
   "execution_count": 13,
   "metadata": {
    "collapsed": false,
    "deletable": true,
    "editable": true
   },
   "outputs": [],
   "source": [
    "from nltk import word_tokenize\n",
    "from nltk.corpus import stopwords\n",
    "\n",
    "#make sure to run\n",
    "#nltk.download()\n",
    "punc_tokens = {'.': '||period||',\n",
    "               ',': '||comma||',\n",
    "               '\"': '||quotation||',\n",
    "               ';': '||semicolon||',\n",
    "               '!': '||exclamation||',\n",
    "               '?': '||question||',\n",
    "               '(': '||left_paren||',\n",
    "               ')': '||right_paren||',\n",
    "               '--': '||hyphen||',\n",
    "               '-': '||hyphen||',\n",
    "               ':': '||colon||',\n",
    "               '[': '||left_brack||',\n",
    "               ']': '||right_brack||',\n",
    "               '{': '||left_curly||',\n",
    "               '}': '||right_curly||',\n",
    "               '\\n': '||newline||'}\n",
    "\n",
    "\n",
    "# This takes in a string and replaces all of the punctuation with tokens\n",
    "# from punc_tokens.  It also removes any stop words in the string\n",
    "# it returns a list of the words in the string\n",
    "def _split_remove_stopwords_tokenize_punc(combined_string):\n",
    "    words = word_tokenize(combined_string)\n",
    "    words = [word for word in words if word not in stopwords.words('english')]\n",
    "    return [word.lower() if word not in punc_tokens.keys() else punc_tokens[word] for word in words]\n",
    "\n",
    "\n",
    "# _tokenize_word_lists takes a list of words and a dictionary of words to integer\n",
    "# ids, and it returns a string of the ids corresponding to the input list of words,\n",
    "# separated by spaces\n",
    "def _tokenize_word_lists(row_list, words_to_int):\n",
    "    return ' '.join([str(words_to_int[word]) for word in row_list])\n",
    "\n",
    "\n",
    "# do_split() opens the csv file containing the combined headline strings,\n",
    "# and calls the above two methods on each row to remove stopwords, tokenize punctuation, and\n",
    "# then create strings of word ids for the combined headline strings.  it outputs these\n",
    "# strings to a new csv file\n",
    "def do_split():\n",
    "    data = pd.read_csv('../data/headlines_combined.csv', header=0)\n",
    "    data['Combined'] = data.apply(lambda row: _split_remove_stopwords_tokenize_punc(row['Combined']), axis=1)\n",
    "\n",
    "    words = set()\n",
    "    for index, row in data.iterrows():\n",
    "        words.update(row[3])\n",
    "\n",
    "    words_to_int = {word: index for index, word in enumerate(words)}\n",
    "\n",
    "    data['Combined'] = data.apply(lambda row: _tokenize_word_lists(row['Combined'], words_to_int), axis=1)\n",
    "\n",
    "    data.to_csv('../data/tokenized_headlines.csv')"
   ]
  },
  {
   "cell_type": "code",
   "execution_count": 8,
   "metadata": {
    "collapsed": false,
    "deletable": true,
    "editable": true
   },
   "outputs": [],
   "source": [
    "do_split()"
   ]
  },
  {
   "cell_type": "markdown",
   "metadata": {
    "deletable": true,
    "editable": true
   },
   "source": [
    "### Network Parameters"
   ]
  },
  {
   "cell_type": "code",
   "execution_count": 33,
   "metadata": {
    "collapsed": false,
    "deletable": true,
    "editable": true
   },
   "outputs": [],
   "source": [
    "file_path = '../data/tokenized_headlines.csv'\n",
    "#string creation and batch hyperparameters\n",
    "split_frac = 0.8\n",
    "batch_size = 99\n",
    "length = 420\n",
    "subsample_thresh = 10**-1\n",
    "#time-series CV step repetitions\n",
    "ts_cv_step_reps = 5\n",
    "#network hyperparameters\n",
    "# DEPRECATED num_epochs = 10\n",
    "rnn_size = 8\n",
    "embed_dim = 50\n",
    "learning_rate = 0.001\n",
    "dropout_keep_rate = 0.3"
   ]
  },
  {
   "cell_type": "markdown",
   "metadata": {
    "deletable": true,
    "editable": true
   },
   "source": [
    "### Get Data and Create Batches"
   ]
  },
  {
   "cell_type": "code",
   "execution_count": 34,
   "metadata": {
    "collapsed": false,
    "deletable": true,
    "editable": true
   },
   "outputs": [],
   "source": [
    "data, vocab = bldrs.get_data_and_vocab(file_path)\n",
    "train_x, val_x, test_x, train_y, val_y, test_y = bldrs.get_data_splits(split_frac, data)\n",
    "train_x, val_x, test_x = bldrs.create_lists_and_filter(train_x, val_x, test_x, subsample_thresh)\n",
    "train_batches = bldrs.get_batches_and_pad(train_x, train_y, batch_size, length)\n",
    "val_batches = bldrs.get_batches_and_pad(val_x, val_y, batch_size, length)\n",
    "\n",
    "# I decided to try time-series cross-validation, rather than using a single validation set.  \n",
    "# So, I am adding the contents of the validation set to the training set here.\n",
    "train_batches = np.concatenate((train_batches, val_batches))\n",
    "\n",
    "test_batches = bldrs.get_batches_and_pad(test_x, test_y, batch_size, length)\n",
    "vocab_size = len(vocab)"
   ]
  },
  {
   "cell_type": "markdown",
   "metadata": {
    "deletable": true,
    "editable": true
   },
   "source": [
    "### Build Network"
   ]
  },
  {
   "cell_type": "code",
   "execution_count": 35,
   "metadata": {
    "collapsed": false,
    "deletable": true,
    "editable": true
   },
   "outputs": [],
   "source": [
    "from tensorflow.contrib.tensorboard.plugins import projector\n",
    "\n",
    "train_graph = tf.Graph()\n",
    "logs_path = 'logs/'\n",
    "with train_graph.as_default():\n",
    "    # create inputs and targets placeholder tensors\n",
    "    inputs, targets = bldrs.build_inputs_and_targets()\n",
    "    # create keep probability placeholder for dropout\n",
    "    keep_prob = tf.placeholder(tf.float32, name='keep_prob')\n",
    "    input_shape = tf.shape(inputs)\n",
    "    # create a word embedding layer tensor and get the embedding output in embedding_var\n",
    "    # this output will be used for tensorboard below\n",
    "    embedding_layer, embedding_var = bldrs.build_embedding_layer(inputs, vocab_size, embed_dim)\n",
    "    \n",
    "    # project embedding for tensorboard : add the embedding output and the metadata log file path\n",
    "    # to the configuration \n",
    "    config = projector.ProjectorConfig()\n",
    "    embedding = config.embeddings.add()\n",
    "    embedding.tensor_name = embedding_var.name\n",
    "    embedding.metadata_path = '.logs/metadata.tsv'\n",
    "    \n",
    "    # build a set of lstm cells (of size rnn_size) which will be used to create the RNN. \n",
    "    # the initial state tensor will also be returned, which will be the starting parameter values\n",
    "    cell, initial_state = bldrs.build_lstm_cell(rnn_size, batch_size, keep_prob)\n",
    "    # use the lstm cells to create a recurrent layer on top of the embedding layer\n",
    "    # get the final state of the model, which is the set of final parameter values\n",
    "    rnn, final_state = bldrs.build_rnn(cell, embedding_layer)\n",
    "    # fully connect the recurrent layer to a single output cell\n",
    "    # the output of which is the prediction made by the network.\n",
    "    predictions = tf.contrib.layers.fully_connected(inputs=rnn[:,-1],\n",
    "                                               num_outputs=1,\n",
    "                                               activation_fn=tf.sigmoid,\n",
    "                                               weights_initializer=tf.truncated_normal_initializer(),\n",
    "                                               biases_initializer=tf.zeros_initializer(),\n",
    "                                               trainable=True)\n",
    "    # build the cost function which will serve as the heuristic for optimizing the network.  \n",
    "    # We are using mean squared error for the cost function\n",
    "    cost = tf.losses.mean_squared_error(targets, predictions)\n",
    "    # create an adam optimizer which uses the cost function and an initial learning_rate to train \n",
    "    # the network.  This learning rate will decay throughout training\n",
    "    optimizer = tf.train.AdamOptimizer(learning_rate).minimize(cost)\n",
    "    # save logs for use in tensorboard\n",
    "    saver = tf.train.Saver()\n",
    "    # get a tensor containing a 1 for each correct prediction, and a 0 for each incorrect prediction\n",
    "    correct_pred = tf.equal(tf.cast(tf.round(predictions), tf.int32), targets)\n",
    "    # create a tensor containing all of the predictions as integers, for inspection and f score calculation\n",
    "    return_predictions = tf.cast(tf.round(predictions), tf.int32)\n",
    "    # get the accuracy of the network by taking the average of correct_pred,\n",
    "    # where a 1 represents a correct prediction and a 0 represents an incorrect prediction\n",
    "    accuracy = tf.reduce_mean(tf.cast(correct_pred, tf.float32))\n"
   ]
  },
  {
   "cell_type": "markdown",
   "metadata": {
    "deletable": true,
    "editable": true
   },
   "source": [
    "### Train Network"
   ]
  },
  {
   "cell_type": "code",
   "execution_count": 42,
   "metadata": {
    "collapsed": false,
    "deletable": true,
    "editable": true
   },
   "outputs": [
    {
     "name": "stdout",
     "output_type": "stream",
     "text": [
      "Batches used for training: 1/18 Train Loss: 0.284\n",
      "Validation Accuracy: 0.535\n",
      "Batches used for training: 2/18 Train Loss: 0.288\n",
      "Validation Accuracy: 0.444\n",
      "Batches used for training: 3/18 Train Loss: 0.286\n",
      "Validation Accuracy: 0.485\n",
      "Batches used for training: 4/18 Train Loss: 0.254\n",
      "Validation Accuracy: 0.515\n",
      "Batches used for training: 5/18 Train Loss: 0.250\n",
      "Validation Accuracy: 0.606\n",
      "Batches used for training: 6/18 Train Loss: 0.240\n",
      "Validation Accuracy: 0.535\n",
      "Batches used for training: 7/18 Train Loss: 0.243\n",
      "Validation Accuracy: 0.535\n",
      "Batches used for training: 8/18 Train Loss: 0.244\n",
      "Validation Accuracy: 0.556\n",
      "Batches used for training: 9/18 Train Loss: 0.219\n",
      "Validation Accuracy: 0.556\n",
      "Batches used for training: 10/18 Train Loss: 0.201\n",
      "Validation Accuracy: 0.505\n",
      "Batches used for training: 11/18 Train Loss: 0.168\n",
      "Validation Accuracy: 0.424\n",
      "Batches used for training: 12/18 Train Loss: 0.247\n",
      "Validation Accuracy: 0.444\n",
      "Batches used for training: 13/18 Train Loss: 0.192\n",
      "Validation Accuracy: 0.606\n",
      "Batches used for training: 14/18 Train Loss: 0.177\n",
      "Validation Accuracy: 0.556\n",
      "Batches used for training: 15/18 Train Loss: 0.183\n",
      "Validation Accuracy: 0.566\n",
      "Batches used for training: 16/18 Train Loss: 0.157\n",
      "Validation Accuracy: 0.495\n",
      "Batches used for training: 17/18 Train Loss: 0.298\n",
      "Validation Accuracy: 0.545\n"
     ]
    }
   ],
   "source": [
    "training_losses = []\n",
    "val_losses = [] \n",
    "val_acc = []\n",
    "val_f_scores = []\n",
    "\n",
    "with train_graph.as_default():\n",
    "    saver = tf.train.Saver()\n",
    "    \n",
    "with tf.Session(graph=train_graph) as sess:\n",
    "    file_writer = tf.summary.FileWriter('./logs/1', sess.graph)\n",
    "    sess.run(tf.global_variables_initializer())\n",
    "    iteration = 1\n",
    "    num_training_batches = len(train_batches)\n",
    "    for index in range(1, num_training_batches):        \n",
    "        epoch_train_batches = train_batches[:index]\n",
    "        epoch_val_batch = train_batches[index]\n",
    "        \n",
    "        # get the initial state of the network for the start of the epoch\n",
    "        state = sess.run(initial_state)\n",
    "\n",
    "        # for cross-validation, will run through each training step multiple times, before validating\n",
    "        for __ in range(ts_cv_step_reps):\n",
    "            for batch in epoch_train_batches:\n",
    "                feed = {inputs: batch['headlines'],\n",
    "                        targets: batch['labels'][:, None],\n",
    "                        keep_prob: dropout_keep_rate,\n",
    "                        initial_state: state}\n",
    "                loss, state, _ = sess.run([cost, final_state, optimizer], feed_dict=feed)\n",
    "\n",
    "                training_losses.append(loss)\n",
    "\n",
    "        print('Batches used for training: {}/{}'.format(index, num_training_batches),\n",
    "                      'Train Loss: {:.3f}'.format(loss))\n",
    "\n",
    "        val_state = sess.run(cell.zero_state(batch_size, tf.float32))\n",
    "        feed = {inputs: epoch_val_batch['headlines'],\n",
    "                targets: epoch_val_batch['labels'][:, None],\n",
    "                keep_prob: 1,\n",
    "                initial_state: val_state}\n",
    "        batch_cost, batch_acc, val_state, val_preds = sess.run([cost, accuracy, final_state, return_predictions], \n",
    "                                                               feed_dict=feed)\n",
    "        val_acc.append([batch_acc])\n",
    "        val_losses.append([batch_cost] * (index*ts_cv_step_reps))\n",
    "        val_f_scores.append(f1_score(val_preds, epoch_val_batch['labels'][:, None],\n",
    "                                  labels=[0,1],average='macro'))\n",
    "        print(\"Validation Accuracy: {:.3f}\".format(batch_acc))    \n",
    "        \n",
    "        saver.save(sess,\"checkpoints/sentiment.ckpt\")        \n",
    "        \n",
    "        \n",
    "# THE CODE BELOW IS NO LONGER USED, AS IT WAS REPLACED BY TIME SERIES CROSS VALIDATION        \n",
    "#         for index, batch in enumerate(epoch_train_batches):\n",
    "#             feed = {inputs: batch['headlines'],\n",
    "#                     targets: batch['labels'][:, None],\n",
    "#                     keep_prob: dropout_keep_rate,\n",
    "#                     initial_state: state}\n",
    "#             loss, state, _ = sess.run([cost, final_state, optimizer], feed_dict=feed)\n",
    "            \n",
    "#             training_losses.append(loss)\n",
    "            \n",
    "#             if iteration%5==0:\n",
    "#                 print('Epoch: {}/{}'.format(e, num_epochs),\n",
    "#                       'Iteration: {}'.format(iteration),\n",
    "#                       'Train Loss: {:.3f}'.format(loss))\n",
    "\n",
    "#                 # VALIDATE\n",
    "#                 val_acc = []\n",
    "#                 val_state = sess.run(cell.zero_state(batch_size, tf.float32))\n",
    "#                 for val_index, val_batch in enumerate(epoch_val_batches):\n",
    "#                     print(val_index, val_batch)\n",
    "#                     feed = {inputs: val_batch['headlines'],\n",
    "#                             targets: val_batch['labels'][:, None],\n",
    "#                             keep_prob: 1,\n",
    "#                             initial_state: val_state}\n",
    "#                     batch_cost, batch_acc, val_state = sess.run([cost, accuracy, final_state], feed_dict=feed)\n",
    "#                     val_acc.append(batch_acc)\n",
    "#                     val_losses.append([batch_cost]*5)\n",
    "#                 if iteration%25==0:\n",
    "#                     print(\"Validation Accuracy: {:.3f}\".format(np.mean(val_acc)))\n",
    "#             iteration += 1\n",
    "#         saver.save(sess,\"checkpoints/sentiment.ckpt\")"
   ]
  },
  {
   "cell_type": "markdown",
   "metadata": {
    "deletable": true,
    "editable": true
   },
   "source": [
    "### Plot Learning Curves"
   ]
  },
  {
   "cell_type": "code",
   "execution_count": 43,
   "metadata": {
    "collapsed": false,
    "deletable": true,
    "editable": true,
    "scrolled": true
   },
   "outputs": [
    {
     "data": {
      "text/plain": [
       "<matplotlib.legend.Legend at 0x7fd35431d550>"
      ]
     },
     "execution_count": 43,
     "metadata": {},
     "output_type": "execute_result"
    },
    {
     "data": {
      "image/png": "[encoded data removed]",
      "text/plain": [
       "<matplotlib.figure.Figure at 0x7fd352ef9e48>"
      ]
     },
     "metadata": {},
     "output_type": "display_data"
    }
   ],
   "source": [
    "val_losses_flat = [value for sublist in val_losses for value in sublist]\n",
    "plt.plot(training_losses, label='Training')\n",
    "plt.plot(val_losses_flat, label='Validation')\n",
    "plt.ylabel('Loss')\n",
    "plt.xlabel('Iteration')\n",
    "\n",
    "plt.legend()"
   ]
  },
  {
   "cell_type": "markdown",
   "metadata": {
    "deletable": true,
    "editable": true
   },
   "source": [
    "### Test Network"
   ]
  },
  {
   "cell_type": "code",
   "execution_count": 44,
   "metadata": {
    "collapsed": false,
    "deletable": true,
    "editable": true
   },
   "outputs": [
    {
     "name": "stdout",
     "output_type": "stream",
     "text": [
      "INFO:tensorflow:Restoring parameters from checkpoints/sentiment.ckpt\n",
      "Test Accuracy: 0.455\n",
      "Test F score: 0.436\n"
     ]
    }
   ],
   "source": [
    "test_acc = []\n",
    "test_pred = []\n",
    "with tf.Session(graph=train_graph) as sess:\n",
    "    saver.restore(sess, tf.train.latest_checkpoint('checkpoints'))\n",
    "    test_state = sess.run(cell.zero_state(batch_size, tf.float32))\n",
    "    for test_index, test_batch in enumerate(test_batches):\n",
    "        feed = {inputs: test_batch['headlines'],\n",
    "                targets: test_batch['labels'][:, None],\n",
    "                keep_prob: 1.0,\n",
    "                initial_state: test_state}\n",
    "        test_batch_acc, test_state, test_batch_pred = sess.run([accuracy, final_state, return_predictions], feed_dict=feed)\n",
    "        test_batch_acc, test_state = sess.run([accuracy, final_state], feed_dict=feed)\n",
    "        test_acc.append(test_batch_acc)\n",
    "        test_pred.append(test_batch_pred)\n",
    "    print(\"Test Accuracy: {:.3f}\".format(np.mean(test_acc)))\n",
    "    test_cut_off = len(test_y) % batch_size\n",
    "    print(\"Test F score: {:.3f}\".format(f1_score([value[0] for sublist in test_pred for value in sublist], test_y[:-1*test_cut_off],\n",
    "                                                labels=[0,1],average='macro')))\n",
    "    "
   ]
  },
  {
   "cell_type": "code",
   "execution_count": 46,
   "metadata": {
    "collapsed": false
   },
   "outputs": [
    {
     "name": "stdout",
     "output_type": "stream",
     "text": [
      "[[0.53535354], [0.44444445], [0.48484847], [0.5151515], [0.60606056], [0.53535354], [0.53535354], [0.55555558], [0.55555558], [0.50505048], [0.42424241], [0.44444448], [0.60606056], [0.55555558], [0.56565654], [0.49494949], [0.5454545]]\n",
      "[0.53301886792452824, 0.44239631336405527, 0.47716682199440819, 0.51111111111111107, 0.58929901074353797, 0.50884383088869711, 0.50370531822144726, 0.55000000000000004, 0.55551020408163265, 0.49994845892176065, 0.42045804662627095, 0.43871765797340484, 0.60460829493087553, 0.55185185185185182, 0.56117925987011641, 0.46054925893635573, 0.52184179456906732]\n"
     ]
    }
   ],
   "source": [
    "print(val_acc)\n",
    "print(val_f_scores)"
   ]
  },
  {
   "cell_type": "code",
   "execution_count": 41,
   "metadata": {
    "collapsed": false,
    "deletable": true,
    "editable": true
   },
   "outputs": [
    {
     "data": {
      "image/png": "[encoded data removed]",
      "text/plain": [
       "<matplotlib.figure.Figure at 0x7fd3530b6ac8>"
      ]
     },
     "metadata": {},
     "output_type": "display_data"
    }
   ],
   "source": [
    "true_pos, false_pos, true_neg, false_neg = 0, 0, 0, 0\n",
    "test_pred = [value[0] for sublist in test_pred for value in sublist]\n",
    "for idx, value in enumerate(test_pred):\n",
    "    if value == 1 and test_y[idx] == 1:\n",
    "        true_pos += 1\n",
    "    elif value == 1 and test_y[idx] == 0:\n",
    "        false_pos += 1\n",
    "    elif value == 0 and test_y[idx] == 1:\n",
    "        false_neg += 1\n",
    "    else :\n",
    "        true_neg += 1\n",
    "        \n",
    "objects = ('True Positives', 'False Positives', 'True Negatives', 'False Negatives')\n",
    "y_pos = np.arange(len(objects))\n",
    "vals = [true_pos, false_pos, true_neg, false_neg]\n",
    "\n",
    "plt.bar(y_pos, vals, align='center', alpha=0.5)\n",
    "plt.xticks(y_pos, objects)\n",
    "plt.show()\n",
    "        \n"
   ]
  },
  {
   "cell_type": "markdown",
   "metadata": {
    "collapsed": true,
    "deletable": true,
    "editable": true
   },
   "source": [
    "### Benchmark"
   ]
  },
  {
   "cell_type": "code",
   "execution_count": 11,
   "metadata": {
    "collapsed": false,
    "deletable": true,
    "editable": true
   },
   "outputs": [
    {
     "name": "stdout",
     "output_type": "stream",
     "text": [
      "[0.46464646464646464, 0.53535353535353536]\n"
     ]
    }
   ],
   "source": [
    "test_points = len(test_batches)*batch_size\n",
    "bench_candidate_1 = [0]*test_points\n",
    "bench_candidate_2 = [1]*test_points\n",
    "cand_accs = [accuracy_score(bench_candidate_1, test_y[:test_points]),accuracy_score(bench_candidate_2, test_y[:test_points])]\n",
    "print(cand_accs)"
   ]
  },
  {
   "cell_type": "markdown",
   "metadata": {
    "deletable": true,
    "editable": true
   },
   "source": [
    "We see that the benchmark candidate containing all 1's has the better accuracy score, which is .5377."
   ]
  },
  {
   "cell_type": "code",
   "execution_count": 12,
   "metadata": {
    "collapsed": false,
    "deletable": true,
    "editable": true
   },
   "outputs": [
    {
     "name": "stdout",
     "output_type": "stream",
     "text": [
      "0.348684210526\n"
     ]
    },
    {
     "name": "stderr",
     "output_type": "stream",
     "text": [
      "/home/carnd/anaconda3/envs/dl/lib/python3.5/site-packages/sklearn/metrics/classification.py:1115: UndefinedMetricWarning: F-score is ill-defined and being set to 0.0 in labels with no true samples.\n",
      "  'recall', 'true', average, warn_for)\n"
     ]
    }
   ],
   "source": [
    "bench_f_score = f1_score(bench_candidate_2, test_y[:test_points], labels=[0,1],average='macro')\n",
    "print(bench_f_score)"
   ]
  },
  {
   "cell_type": "markdown",
   "metadata": {
    "deletable": true,
    "editable": true
   },
   "source": [
    "The f-score for the benchmark is 0.3497.  The warning that is printed is expected.  We are taking the mean of the f-scores for both classes.  Because there are no true positives for class 0, the f-score for that class will have 0 in the denominator, and is thus undefined.  Therefore, it is set to 0."
   ]
  },
  {
   "cell_type": "code",
   "execution_count": 9,
   "metadata": {
    "collapsed": true,
    "deletable": true,
    "editable": true
   },
   "outputs": [],
   "source": []
  },
  {
   "cell_type": "code",
   "execution_count": null,
   "metadata": {
    "collapsed": false,
    "deletable": true,
    "editable": true
   },
   "outputs": [],
   "source": [
    "data = pd.read_csv('../data/headlines_combined.csv', header=0)\n",
    "data['Combined'] = data.apply(lambda row: _split_remove_stopwords_tokenize_punc(row['Combined']), axis=1)\n",
    "\n",
    "words = set()\n",
    "for index, row in data.iterrows():\n",
    "    words.update(row[3])\n",
    "\n",
    "words_to_int = {word: index for index, word in enumerate(words)}"
   ]
  },
  {
   "cell_type": "code",
   "execution_count": null,
   "metadata": {
    "collapsed": false,
    "deletable": true,
    "editable": true
   },
   "outputs": [],
   "source": [
    "int_to_words = {idx: word for word, idx in words_to_int.items()}"
   ]
  },
  {
   "cell_type": "code",
   "execution_count": 30,
   "metadata": {
    "collapsed": false,
    "deletable": true,
    "editable": true,
    "scrolled": true
   },
   "outputs": [
    {
     "name": "stdout",
     "output_type": "stream",
     "text": [
      "rake\n",
      "ghg\n",
      "triggered\n",
      "ferraris\n",
      "hutton\n",
      "dagger\n"
     ]
    }
   ],
   "source": [
    "print(int_to_words[32931])\n",
    "print(int_to_words[28490])\n",
    "print(int_to_words[9990])\n",
    "print(int_to_words[21405])\n",
    "print(int_to_words[7427])\n",
    "print(int_to_words[40077])"
   ]
  },
  {
   "cell_type": "code",
   "execution_count": null,
   "metadata": {
    "collapsed": true,
    "deletable": true,
    "editable": true
   },
   "outputs": [],
   "source": []
  }
 ],
 "metadata": {
  "anaconda-cloud": {},
  "kernelspec": {
   "display_name": "Python 3",
   "language": "python",
   "name": "python3"
  },
  "language_info": {
   "codemirror_mode": {
    "name": "ipython",
    "version": 3
   },
   "file_extension": ".py",
   "mimetype": "text/x-python",
   "name": "python",
   "nbconvert_exporter": "python",
   "pygments_lexer": "ipython3",
   "version": "3.5.2"
  },
  "widgets": {
   "state": {},
   "version": "1.1.2"
  }
 },
 "nbformat": 4,
 "nbformat_minor": 2
}
