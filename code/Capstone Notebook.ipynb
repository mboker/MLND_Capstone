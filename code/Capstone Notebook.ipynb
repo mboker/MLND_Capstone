{
 "cells": [
  {
   "cell_type": "code",
   "execution_count": 1,
   "metadata": {
    "collapsed": false,
    "deletable": true,
    "editable": true
   },
   "outputs": [],
   "source": [
    "%matplotlib inline\n",
    "\n",
    "import tensorflow as tf\n",
    "import numpy as np\n",
    "import pandas as pd \n",
    "import matplotlib.pyplot as plt\n",
    "import network.builders as bldrs\n",
    "from sklearn.metrics import accuracy_score, f1_score"
   ]
  },
  {
   "cell_type": "markdown",
   "metadata": {
    "deletable": true,
    "editable": true
   },
   "source": [
    "### Data Preprocessing"
   ]
  },
  {
   "cell_type": "markdown",
   "metadata": {
    "deletable": true,
    "editable": true
   },
   "source": [
    "First, get all of the data, and combine the 25 headlines into one string for each row, stripping the junk characters off of the beginnings and ends of the strings, and adding the delimiter token.  Save this to a new file as a checkpoint."
   ]
  },
  {
   "cell_type": "code",
   "execution_count": 3,
   "metadata": {
    "collapsed": true,
    "deletable": true,
    "editable": true
   },
   "outputs": [],
   "source": [
    "data = pd.read_csv('../data/Combined_News_DJIA.csv', header=0, na_values=[])\n",
    "data.fillna('', inplace=True)\n",
    "data['Combined'] = ''\n",
    "for i in range(1, 26):\n",
    "    data['Combined'] += ' ||new_headline|| ' + \\\n",
    "                        data['Top'+str(i)].str.strip('b\\\\\\'\" ')\n",
    "    data = data.drop('Top'+str(i), axis=1)\n",
    "\n",
    "data.to_csv('../data/headlines_combined.csv')"
   ]
  },
  {
   "cell_type": "markdown",
   "metadata": {
    "deletable": true,
    "editable": true
   },
   "source": [
    "Now, split the combined strings into lists of words, remove stop words, and tokenize these lists."
   ]
  },
  {
   "cell_type": "code",
   "execution_count": 13,
   "metadata": {
    "collapsed": false,
    "deletable": true,
    "editable": true
   },
   "outputs": [],
   "source": [
    "from nltk import word_tokenize\n",
    "from nltk.corpus import stopwords\n",
    "\n",
    "#make sure to run\n",
    "#nltk.download()\n",
    "punc_tokens = {'.': '||period||',\n",
    "               ',': '||comma||',\n",
    "               '\"': '||quotation||',\n",
    "               ';': '||semicolon||',\n",
    "               '!': '||exclamation||',\n",
    "               '?': '||question||',\n",
    "               '(': '||left_paren||',\n",
    "               ')': '||right_paren||',\n",
    "               '--': '||hyphen||',\n",
    "               '-': '||hyphen||',\n",
    "               ':': '||colon||',\n",
    "               '[': '||left_brack||',\n",
    "               ']': '||right_brack||',\n",
    "               '{': '||left_curly||',\n",
    "               '}': '||right_curly||',\n",
    "               '\\n': '||newline||'}\n",
    "\n",
    "\n",
    "# This takes in a string and replaces all of the punctuation with tokens\n",
    "# from punc_tokens.  It also removes any stop words in the string\n",
    "# it returns a list of the words in the string\n",
    "def _split_remove_stopwords_tokenize_punc(combined_string):\n",
    "    words = word_tokenize(combined_string)\n",
    "    words = [word for word in words if word not in stopwords.words('english')]\n",
    "    return [word.lower() if word not in punc_tokens.keys() else punc_tokens[word] for word in words]\n",
    "\n",
    "\n",
    "# _tokenize_word_lists takes a list of words and a dictionary of words to integer\n",
    "# ids, and it returns a string of the ids corresponding to the input list of words,\n",
    "# separated by spaces\n",
    "def _tokenize_word_lists(row_list, words_to_int):\n",
    "    return ' '.join([str(words_to_int[word]) for word in row_list])\n",
    "\n",
    "\n",
    "# do_split() opens the csv file containing the combined headline strings,\n",
    "# and calls the above two methods on each row to remove stopwords, tokenize punctuation, and\n",
    "# then create strings of word ids for the combined headline strings.  it outputs these\n",
    "# strings to a new csv file\n",
    "def do_split():\n",
    "    data = pd.read_csv('../data/headlines_combined.csv', header=0)\n",
    "    data['Combined'] = data.apply(lambda row: _split_remove_stopwords_tokenize_punc(row['Combined']), axis=1)\n",
    "\n",
    "    words = set()\n",
    "    for index, row in data.iterrows():\n",
    "        words.update(row[3])\n",
    "\n",
    "    words_to_int = {word: index for index, word in enumerate(words)}\n",
    "\n",
    "    data['Combined'] = data.apply(lambda row: _tokenize_word_lists(row['Combined'], words_to_int), axis=1)\n",
    "\n",
    "    data.to_csv('../data/tokenized_headlines.csv')"
   ]
  },
  {
   "cell_type": "code",
   "execution_count": 8,
   "metadata": {
    "collapsed": false,
    "deletable": true,
    "editable": true
   },
   "outputs": [],
   "source": [
    "do_split()"
   ]
  },
  {
   "cell_type": "markdown",
   "metadata": {
    "deletable": true,
    "editable": true
   },
   "source": [
    "### Network Parameters"
   ]
  },
  {
   "cell_type": "code",
   "execution_count": 2,
   "metadata": {
    "collapsed": false,
    "deletable": true,
    "editable": true
   },
   "outputs": [],
   "source": [
    "file_path = '../data/tokenized_headlines.csv'\n",
    "#string creation and batch hyperparameters\n",
    "split_frac = 0.8\n",
    "batch_size = 198\n",
    "length = 420\n",
    "subsample_thresh = 10**-1\n",
    "#network hyperparameters\n",
    "num_epochs = 100\n",
    "rnn_size = 8\n",
    "embed_dim = 50\n",
    "learning_rate = 0.001\n",
    "dropout_keep_rate = 0.3"
   ]
  },
  {
   "cell_type": "markdown",
   "metadata": {
    "deletable": true,
    "editable": true
   },
   "source": [
    "### Get Data and Create Batches"
   ]
  },
  {
   "cell_type": "code",
   "execution_count": 3,
   "metadata": {
    "collapsed": false,
    "deletable": true,
    "editable": true
   },
   "outputs": [],
   "source": [
    "data, vocab = bldrs.get_data_and_vocab(file_path)\n",
    "train_x, val_x, test_x, train_y, val_y, test_y = bldrs.get_data_splits(split_frac, data)\n",
    "train_x, val_x, test_x = bldrs.create_lists_and_filter(train_x, val_x, test_x, subsample_thresh)\n",
    "train_batches = bldrs.get_batches_and_pad(train_x, train_y, batch_size, length)\n",
    "val_batches = bldrs.get_batches_and_pad(val_x, val_y, batch_size, length)\n",
    "test_batches = bldrs.get_batches_and_pad(test_x, test_y, batch_size, length)\n",
    "vocab_size = len(vocab)"
   ]
  },
  {
   "cell_type": "markdown",
   "metadata": {
    "deletable": true,
    "editable": true
   },
   "source": [
    "### Build Network"
   ]
  },
  {
   "cell_type": "code",
   "execution_count": 4,
   "metadata": {
    "collapsed": false,
    "deletable": true,
    "editable": true
   },
   "outputs": [],
   "source": [
    "from tensorflow.contrib.tensorboard.plugins import projector\n",
    "\n",
    "train_graph = tf.Graph()\n",
    "logs_path = 'logs/'\n",
    "with train_graph.as_default():\n",
    "    # create inputs and targets placeholder tensors\n",
    "    inputs, targets = bldrs.build_inputs_and_targets()\n",
    "    # create keep probability placeholder for dropout\n",
    "    keep_prob = tf.placeholder(tf.float32, name='keep_prob')\n",
    "    input_shape = tf.shape(inputs)\n",
    "    # create a word embedding layer tensor and get the embedding output in embedding_var\n",
    "    # this output will be used for tensorboard below\n",
    "    embedding_layer, embedding_var = bldrs.build_embedding_layer(inputs, vocab_size, embed_dim)\n",
    "    \n",
    "    # project embedding for tensorboard : add the embedding output and the metadata log file path\n",
    "    # to the configuration \n",
    "    config = projector.ProjectorConfig()\n",
    "    embedding = config.embeddings.add()\n",
    "    embedding.tensor_name = embedding_var.name\n",
    "    embedding.metadata_path = '.logs/metadata.tsv'\n",
    "    \n",
    "    # build a set of lstm cells (of size rnn_size) which will be used to create the RNN. \n",
    "    # the initial state tensor will also be returned, which will be the starting parameter values\n",
    "    cell, initial_state = bldrs.build_lstm_cell(rnn_size, batch_size, keep_prob)\n",
    "    # use the lstm cells to create a recurrent layer on top of the embedding layer\n",
    "    # get the final state of the model, which is the set of final parameter values\n",
    "    rnn, final_state = bldrs.build_rnn(cell, embedding_layer)\n",
    "    # fully connect the recurrent layer to a single output cell\n",
    "    # the output of which is the prediction made by the network.\n",
    "    predictions = tf.contrib.layers.fully_connected(inputs=rnn[:,-1],\n",
    "                                               num_outputs=1,\n",
    "                                               activation_fn=tf.sigmoid,\n",
    "                                               weights_initializer=tf.truncated_normal_initializer(),\n",
    "                                               biases_initializer=tf.zeros_initializer(),\n",
    "                                               trainable=True)\n",
    "    # build the cost function which will serve as the heuristic for optimizing the network.  \n",
    "    # We are using mean squared error for the cost function\n",
    "    cost = tf.losses.mean_squared_error(targets, predictions)\n",
    "    # create an adam optimizer which uses the cost function and an initial learning_rate to train \n",
    "    # the network.  This learning rate will decay throughout training\n",
    "    optimizer = tf.train.AdamOptimizer(learning_rate).minimize(cost)\n",
    "    # save logs for use in tensorboard\n",
    "    saver = tf.train.Saver()\n",
    "    # get a tensor containing a 1 for each correct prediction, and a 0 for each incorrect prediction\n",
    "    correct_pred = tf.equal(tf.cast(tf.round(predictions), tf.int32), targets)\n",
    "    # create a tensor containing all of the predictions as integers, for inspection and f score calculation\n",
    "    return_predictions = tf.cast(tf.round(predictions), tf.int32)\n",
    "    # get the accuracy of the network by taking the average of correct_pred,\n",
    "    # where a 1 represents a correct prediction and a 0 represents an incorrect prediction\n",
    "    accuracy = tf.reduce_mean(tf.cast(correct_pred, tf.float32))\n"
   ]
  },
  {
   "cell_type": "markdown",
   "metadata": {
    "deletable": true,
    "editable": true
   },
   "source": [
    "### Train Network"
   ]
  },
  {
   "cell_type": "code",
   "execution_count": 5,
   "metadata": {
    "collapsed": false,
    "deletable": true,
    "editable": true
   },
   "outputs": [
    {
     "name": "stdout",
     "output_type": "stream",
     "text": [
      "Epoch: 0/100 Iteration: 5 Train Loss: 0.262\n",
      "Epoch: 1/100 Iteration: 10 Train Loss: 0.273\n",
      "Epoch: 1/100 Iteration: 15 Train Loss: 0.261\n",
      "Epoch: 2/100 Iteration: 20 Train Loss: 0.262\n",
      "Epoch: 3/100 Iteration: 25 Train Loss: 0.257\n",
      "Validation Accuracy: 0.465\n",
      "Epoch: 3/100 Iteration: 30 Train Loss: 0.250\n",
      "Epoch: 4/100 Iteration: 35 Train Loss: 0.260\n",
      "Epoch: 4/100 Iteration: 40 Train Loss: 0.267\n",
      "Epoch: 5/100 Iteration: 45 Train Loss: 0.245\n",
      "Epoch: 6/100 Iteration: 50 Train Loss: 0.248\n",
      "Validation Accuracy: 0.465\n",
      "Epoch: 6/100 Iteration: 55 Train Loss: 0.266\n",
      "Epoch: 7/100 Iteration: 60 Train Loss: 0.246\n",
      "Epoch: 8/100 Iteration: 65 Train Loss: 0.258\n",
      "Epoch: 8/100 Iteration: 70 Train Loss: 0.258\n",
      "Epoch: 9/100 Iteration: 75 Train Loss: 0.241\n",
      "Validation Accuracy: 0.475\n",
      "Epoch: 9/100 Iteration: 80 Train Loss: 0.253\n",
      "Epoch: 10/100 Iteration: 85 Train Loss: 0.249\n",
      "Epoch: 11/100 Iteration: 90 Train Loss: 0.241\n",
      "Epoch: 11/100 Iteration: 95 Train Loss: 0.239\n",
      "Epoch: 12/100 Iteration: 100 Train Loss: 0.232\n",
      "Validation Accuracy: 0.475\n",
      "Epoch: 13/100 Iteration: 105 Train Loss: 0.235\n",
      "Epoch: 13/100 Iteration: 110 Train Loss: 0.247\n",
      "Epoch: 14/100 Iteration: 115 Train Loss: 0.247\n",
      "Epoch: 14/100 Iteration: 120 Train Loss: 0.248\n",
      "Epoch: 15/100 Iteration: 125 Train Loss: 0.233\n",
      "Validation Accuracy: 0.495\n",
      "Epoch: 16/100 Iteration: 130 Train Loss: 0.229\n",
      "Epoch: 16/100 Iteration: 135 Train Loss: 0.232\n",
      "Epoch: 17/100 Iteration: 140 Train Loss: 0.220\n",
      "Epoch: 18/100 Iteration: 145 Train Loss: 0.224\n",
      "Epoch: 18/100 Iteration: 150 Train Loss: 0.233\n",
      "Validation Accuracy: 0.495\n",
      "Epoch: 19/100 Iteration: 155 Train Loss: 0.232\n",
      "Epoch: 19/100 Iteration: 160 Train Loss: 0.226\n",
      "Epoch: 20/100 Iteration: 165 Train Loss: 0.210\n",
      "Epoch: 21/100 Iteration: 170 Train Loss: 0.209\n",
      "Epoch: 21/100 Iteration: 175 Train Loss: 0.209\n",
      "Validation Accuracy: 0.495\n",
      "Epoch: 22/100 Iteration: 180 Train Loss: 0.194\n",
      "Epoch: 23/100 Iteration: 185 Train Loss: 0.215\n",
      "Epoch: 23/100 Iteration: 190 Train Loss: 0.201\n",
      "Epoch: 24/100 Iteration: 195 Train Loss: 0.178\n",
      "Epoch: 24/100 Iteration: 200 Train Loss: 0.157\n",
      "Validation Accuracy: 0.490\n",
      "Epoch: 25/100 Iteration: 205 Train Loss: 0.164\n",
      "Epoch: 26/100 Iteration: 210 Train Loss: 0.164\n",
      "Epoch: 26/100 Iteration: 215 Train Loss: 0.153\n",
      "Epoch: 27/100 Iteration: 220 Train Loss: 0.151\n",
      "Epoch: 28/100 Iteration: 225 Train Loss: 0.159\n",
      "Validation Accuracy: 0.495\n",
      "Epoch: 28/100 Iteration: 230 Train Loss: 0.153\n",
      "Epoch: 29/100 Iteration: 235 Train Loss: 0.142\n",
      "Epoch: 29/100 Iteration: 240 Train Loss: 0.121\n",
      "Epoch: 30/100 Iteration: 245 Train Loss: 0.125\n",
      "Epoch: 31/100 Iteration: 250 Train Loss: 0.119\n",
      "Validation Accuracy: 0.495\n",
      "Epoch: 31/100 Iteration: 255 Train Loss: 0.102\n",
      "Epoch: 32/100 Iteration: 260 Train Loss: 0.114\n",
      "Epoch: 33/100 Iteration: 265 Train Loss: 0.108\n",
      "Epoch: 33/100 Iteration: 270 Train Loss: 0.111\n",
      "Epoch: 34/100 Iteration: 275 Train Loss: 0.086\n",
      "Validation Accuracy: 0.490\n",
      "Epoch: 34/100 Iteration: 280 Train Loss: 0.082\n",
      "Epoch: 35/100 Iteration: 285 Train Loss: 0.078\n",
      "Epoch: 36/100 Iteration: 290 Train Loss: 0.089\n",
      "Epoch: 36/100 Iteration: 295 Train Loss: 0.073\n",
      "Epoch: 37/100 Iteration: 300 Train Loss: 0.082\n",
      "Validation Accuracy: 0.495\n",
      "Epoch: 38/100 Iteration: 305 Train Loss: 0.078\n",
      "Epoch: 38/100 Iteration: 310 Train Loss: 0.088\n",
      "Epoch: 39/100 Iteration: 315 Train Loss: 0.071\n",
      "Epoch: 39/100 Iteration: 320 Train Loss: 0.069\n",
      "Epoch: 40/100 Iteration: 325 Train Loss: 0.064\n",
      "Validation Accuracy: 0.490\n",
      "Epoch: 41/100 Iteration: 330 Train Loss: 0.059\n",
      "Epoch: 41/100 Iteration: 335 Train Loss: 0.064\n",
      "Epoch: 42/100 Iteration: 340 Train Loss: 0.072\n",
      "Epoch: 43/100 Iteration: 345 Train Loss: 0.073\n",
      "Epoch: 43/100 Iteration: 350 Train Loss: 0.065\n",
      "Validation Accuracy: 0.490\n",
      "Epoch: 44/100 Iteration: 355 Train Loss: 0.050\n",
      "Epoch: 44/100 Iteration: 360 Train Loss: 0.050\n",
      "Epoch: 45/100 Iteration: 365 Train Loss: 0.052\n",
      "Epoch: 46/100 Iteration: 370 Train Loss: 0.052\n",
      "Epoch: 46/100 Iteration: 375 Train Loss: 0.055\n",
      "Validation Accuracy: 0.490\n",
      "Epoch: 47/100 Iteration: 380 Train Loss: 0.060\n",
      "Epoch: 48/100 Iteration: 385 Train Loss: 0.052\n",
      "Epoch: 48/100 Iteration: 390 Train Loss: 0.051\n",
      "Epoch: 49/100 Iteration: 395 Train Loss: 0.065\n",
      "Epoch: 49/100 Iteration: 400 Train Loss: 0.051\n",
      "Validation Accuracy: 0.490\n",
      "Epoch: 50/100 Iteration: 405 Train Loss: 0.041\n",
      "Epoch: 51/100 Iteration: 410 Train Loss: 0.050\n",
      "Epoch: 51/100 Iteration: 415 Train Loss: 0.040\n",
      "Epoch: 52/100 Iteration: 420 Train Loss: 0.047\n",
      "Epoch: 53/100 Iteration: 425 Train Loss: 0.051\n",
      "Validation Accuracy: 0.490\n",
      "Epoch: 53/100 Iteration: 430 Train Loss: 0.054\n",
      "Epoch: 54/100 Iteration: 435 Train Loss: 0.055\n",
      "Epoch: 54/100 Iteration: 440 Train Loss: 0.040\n",
      "Epoch: 55/100 Iteration: 445 Train Loss: 0.050\n",
      "Epoch: 56/100 Iteration: 450 Train Loss: 0.037\n",
      "Validation Accuracy: 0.485\n",
      "Epoch: 56/100 Iteration: 455 Train Loss: 0.042\n",
      "Epoch: 57/100 Iteration: 460 Train Loss: 0.049\n",
      "Epoch: 58/100 Iteration: 465 Train Loss: 0.046\n",
      "Epoch: 58/100 Iteration: 470 Train Loss: 0.049\n",
      "Epoch: 59/100 Iteration: 475 Train Loss: 0.062\n",
      "Validation Accuracy: 0.485\n",
      "Epoch: 59/100 Iteration: 480 Train Loss: 0.048\n",
      "Epoch: 60/100 Iteration: 485 Train Loss: 0.050\n",
      "Epoch: 61/100 Iteration: 490 Train Loss: 0.039\n",
      "Epoch: 61/100 Iteration: 495 Train Loss: 0.034\n",
      "Epoch: 62/100 Iteration: 500 Train Loss: 0.041\n",
      "Validation Accuracy: 0.490\n",
      "Epoch: 63/100 Iteration: 505 Train Loss: 0.032\n",
      "Epoch: 63/100 Iteration: 510 Train Loss: 0.046\n",
      "Epoch: 64/100 Iteration: 515 Train Loss: 0.044\n",
      "Epoch: 64/100 Iteration: 520 Train Loss: 0.024\n",
      "Epoch: 65/100 Iteration: 525 Train Loss: 0.042\n",
      "Validation Accuracy: 0.490\n",
      "Epoch: 66/100 Iteration: 530 Train Loss: 0.026\n",
      "Epoch: 66/100 Iteration: 535 Train Loss: 0.036\n",
      "Epoch: 67/100 Iteration: 540 Train Loss: 0.051\n",
      "Epoch: 68/100 Iteration: 545 Train Loss: 0.033\n",
      "Epoch: 68/100 Iteration: 550 Train Loss: 0.039\n",
      "Validation Accuracy: 0.485\n",
      "Epoch: 69/100 Iteration: 555 Train Loss: 0.049\n",
      "Epoch: 69/100 Iteration: 560 Train Loss: 0.029\n",
      "Epoch: 70/100 Iteration: 565 Train Loss: 0.034\n",
      "Epoch: 71/100 Iteration: 570 Train Loss: 0.034\n",
      "Epoch: 71/100 Iteration: 575 Train Loss: 0.044\n",
      "Validation Accuracy: 0.485\n",
      "Epoch: 72/100 Iteration: 580 Train Loss: 0.038\n",
      "Epoch: 73/100 Iteration: 585 Train Loss: 0.031\n",
      "Epoch: 73/100 Iteration: 590 Train Loss: 0.043\n",
      "Epoch: 74/100 Iteration: 595 Train Loss: 0.025\n",
      "Epoch: 74/100 Iteration: 600 Train Loss: 0.024\n",
      "Validation Accuracy: 0.490\n",
      "Epoch: 75/100 Iteration: 605 Train Loss: 0.036\n",
      "Epoch: 76/100 Iteration: 610 Train Loss: 0.032\n",
      "Epoch: 76/100 Iteration: 615 Train Loss: 0.038\n",
      "Epoch: 77/100 Iteration: 620 Train Loss: 0.032\n",
      "Epoch: 78/100 Iteration: 625 Train Loss: 0.037\n",
      "Validation Accuracy: 0.495\n",
      "Epoch: 78/100 Iteration: 630 Train Loss: 0.035\n",
      "Epoch: 79/100 Iteration: 635 Train Loss: 0.031\n",
      "Epoch: 79/100 Iteration: 640 Train Loss: 0.027\n",
      "Epoch: 80/100 Iteration: 645 Train Loss: 0.029\n",
      "Epoch: 81/100 Iteration: 650 Train Loss: 0.038\n",
      "Validation Accuracy: 0.490\n",
      "Epoch: 81/100 Iteration: 655 Train Loss: 0.034\n",
      "Epoch: 82/100 Iteration: 660 Train Loss: 0.025\n",
      "Epoch: 83/100 Iteration: 665 Train Loss: 0.039\n",
      "Epoch: 83/100 Iteration: 670 Train Loss: 0.036\n",
      "Epoch: 84/100 Iteration: 675 Train Loss: 0.029\n",
      "Validation Accuracy: 0.485\n",
      "Epoch: 84/100 Iteration: 680 Train Loss: 0.030\n",
      "Epoch: 85/100 Iteration: 685 Train Loss: 0.036\n",
      "Epoch: 86/100 Iteration: 690 Train Loss: 0.031\n",
      "Epoch: 86/100 Iteration: 695 Train Loss: 0.035\n",
      "Epoch: 87/100 Iteration: 700 Train Loss: 0.022\n",
      "Validation Accuracy: 0.490\n",
      "Epoch: 88/100 Iteration: 705 Train Loss: 0.023\n",
      "Epoch: 88/100 Iteration: 710 Train Loss: 0.029\n",
      "Epoch: 89/100 Iteration: 715 Train Loss: 0.030\n",
      "Epoch: 89/100 Iteration: 720 Train Loss: 0.024\n",
      "Epoch: 90/100 Iteration: 725 Train Loss: 0.035\n",
      "Validation Accuracy: 0.495\n",
      "Epoch: 91/100 Iteration: 730 Train Loss: 0.029\n",
      "Epoch: 91/100 Iteration: 735 Train Loss: 0.038\n",
      "Epoch: 92/100 Iteration: 740 Train Loss: 0.023\n",
      "Epoch: 93/100 Iteration: 745 Train Loss: 0.020\n",
      "Epoch: 93/100 Iteration: 750 Train Loss: 0.024\n",
      "Validation Accuracy: 0.490\n",
      "Epoch: 94/100 Iteration: 755 Train Loss: 0.039\n",
      "Epoch: 94/100 Iteration: 760 Train Loss: 0.029\n",
      "Epoch: 95/100 Iteration: 765 Train Loss: 0.030\n",
      "Epoch: 96/100 Iteration: 770 Train Loss: 0.033\n",
      "Epoch: 96/100 Iteration: 775 Train Loss: 0.030\n",
      "Validation Accuracy: 0.490\n",
      "Epoch: 97/100 Iteration: 780 Train Loss: 0.027\n",
      "Epoch: 98/100 Iteration: 785 Train Loss: 0.026\n",
      "Epoch: 98/100 Iteration: 790 Train Loss: 0.030\n",
      "Epoch: 99/100 Iteration: 795 Train Loss: 0.033\n",
      "Epoch: 99/100 Iteration: 800 Train Loss: 0.028\n",
      "Validation Accuracy: 0.490\n"
     ]
    }
   ],
   "source": [
    "training_losses = []\n",
    "val_losses = [] \n",
    "\n",
    "with train_graph.as_default():\n",
    "    saver = tf.train.Saver()\n",
    "    \n",
    "with tf.Session(graph=train_graph) as sess:\n",
    "    file_writer = tf.summary.FileWriter('./logs/1', sess.graph)\n",
    "    sess.run(tf.global_variables_initializer())\n",
    "    iteration = 1\n",
    "    for e in range(num_epochs):\n",
    "        # get the initial state of the network for the start of the epoch\n",
    "        state = sess.run(initial_state)\n",
    "\n",
    "        for index, batch in enumerate(train_batches):\n",
    "            feed = {inputs: batch['headlines'],\n",
    "                    targets: batch['labels'][:, None],\n",
    "                    keep_prob: dropout_keep_rate,\n",
    "                    initial_state: state}\n",
    "            loss, state, _ = sess.run([cost, final_state, optimizer], feed_dict=feed)\n",
    "            \n",
    "            training_losses.append(loss)\n",
    "            \n",
    "            if iteration%5==0:\n",
    "                print('Epoch: {}/{}'.format(e, num_epochs),\n",
    "                      'Iteration: {}'.format(iteration),\n",
    "                      'Train Loss: {:.3f}'.format(loss))\n",
    "\n",
    "                # VALIDATE\n",
    "                val_acc = []\n",
    "                val_state = sess.run(cell.zero_state(batch_size, tf.float32))\n",
    "                for val_index, val_batch in enumerate(val_batches):\n",
    "                    feed = {inputs: val_batch['headlines'],\n",
    "                            targets: val_batch['labels'][:, None],\n",
    "                            keep_prob: 1,\n",
    "                            initial_state: val_state}\n",
    "                    batch_cost, batch_acc, val_state = sess.run([cost, accuracy, final_state], feed_dict=feed)\n",
    "                    val_acc.append(batch_acc)\n",
    "                    val_losses.append([batch_cost]*5)\n",
    "                if iteration%25==0:\n",
    "                    print(\"Validation Accuracy: {:.3f}\".format(np.mean(val_acc)))\n",
    "            iteration += 1\n",
    "        saver.save(sess,\"checkpoints/sentiment.ckpt\")"
   ]
  },
  {
   "cell_type": "markdown",
   "metadata": {
    "deletable": true,
    "editable": true
   },
   "source": [
    "### Plot Learning Curves"
   ]
  },
  {
   "cell_type": "code",
   "execution_count": 6,
   "metadata": {
    "collapsed": false,
    "deletable": true,
    "editable": true
   },
   "outputs": [
    {
     "data": {
      "text/plain": [
       "<matplotlib.legend.Legend at 0x7f9cb0408d68>"
      ]
     },
     "execution_count": 6,
     "metadata": {},
     "output_type": "execute_result"
    },
    {
     "data": {
      "image/png": "[encoded data removed]",
      "text/plain": [
       "<matplotlib.figure.Figure at 0x7f9cb1da0d68>"
      ]
     },
     "metadata": {},
     "output_type": "display_data"
    }
   ],
   "source": [
    "val_losses_flat = [value for sublist in val_losses for value in sublist]\n",
    "plt.plot(training_losses, label='Training')\n",
    "plt.plot(val_losses_flat, label='Validation')\n",
    "plt.ylabel('Loss')\n",
    "plt.xlabel('Iteration')\n",
    "\n",
    "plt.legend()"
   ]
  },
  {
   "cell_type": "markdown",
   "metadata": {
    "deletable": true,
    "editable": true
   },
   "source": [
    "### Test Network"
   ]
  },
  {
   "cell_type": "code",
   "execution_count": 24,
   "metadata": {
    "collapsed": false,
    "deletable": true,
    "editable": true
   },
   "outputs": [
    {
     "name": "stdout",
     "output_type": "stream",
     "text": [
      "INFO:tensorflow:Restoring parameters from checkpoints/sentiment.ckpt\n",
      "Test Accuracy: 0.535\n",
      "Test F score: 0.349\n"
     ]
    },
    {
     "name": "stderr",
     "output_type": "stream",
     "text": [
      "/home/carnd/anaconda3/envs/dl/lib/python3.5/site-packages/sklearn/metrics/classification.py:1115: UndefinedMetricWarning: F-score is ill-defined and being set to 0.0 in labels with no true samples.\n",
      "  'recall', 'true', average, warn_for)\n"
     ]
    }
   ],
   "source": [
    "test_acc = []\n",
    "test_pred = []\n",
    "with tf.Session(graph=train_graph) as sess:\n",
    "    saver.restore(sess, tf.train.latest_checkpoint('checkpoints'))\n",
    "    test_state = sess.run(cell.zero_state(batch_size, tf.float32))\n",
    "    for test_index, test_batch in enumerate(test_batches):\n",
    "        feed = {inputs: test_batch['headlines'],\n",
    "                targets: test_batch['labels'][:, None],\n",
    "                keep_prob: 1.0,\n",
    "                initial_state: test_state}\n",
    "        test_batch_acc, test_state, test_batch_pred = sess.run([accuracy, final_state, return_predictions], feed_dict=feed)\n",
    "        test_batch_acc, test_state = sess.run([accuracy, final_state], feed_dict=feed)\n",
    "        test_acc.append(test_batch_acc)\n",
    "        test_pred.append(test_batch_pred)\n",
    "    print(\"Test Accuracy: {:.3f}\".format(np.mean(test_acc)))\n",
    "    print(\"Test F score: {:.3f}\".format(f1_score([value[0] for sublist in test_pred for value in sublist], test_y[:batch_size],\n",
    "                                                labels=[0,1],average='macro')))\n",
    "    "
   ]
  },
  {
   "cell_type": "code",
   "execution_count": 30,
   "metadata": {
    "collapsed": false,
    "deletable": true,
    "editable": true
   },
   "outputs": [
    {
     "data": {
      "image/png": "[encoded data removed]",
      "text/plain": [
       "<matplotlib.figure.Figure at 0x7f91c3471b00>"
      ]
     },
     "metadata": {},
     "output_type": "display_data"
    }
   ],
   "source": [
    "true_pos, false_pos, true_neg, false_neg = 0, 0, 0, 0\n",
    "#test_pred = [value[0] for sublist in test_pred for value in sublist]\n",
    "for idx, value in enumerate(test_pred):\n",
    "    if value == 1 and test_y[idx] == 1:\n",
    "        true_pos += 1\n",
    "    elif value == 1 and test_y[idx] == 0:\n",
    "        false_pos += 1\n",
    "    elif value == 0 and test_y[idx] == 1:\n",
    "        false_neg += 1\n",
    "    else :\n",
    "        true_neg += 1\n",
    "        \n",
    "objects = ('True Positives', 'False Positives', 'True Negatives', 'False Negatives')\n",
    "y_pos = np.arange(len(objects))\n",
    "vals = [true_pos, false_pos, true_neg, false_neg]\n",
    "\n",
    "plt.bar(y_pos, vals, align='center', alpha=0.5)\n",
    "plt.xticks(y_pos, objects)\n",
    "plt.show()\n",
    "        \n"
   ]
  },
  {
   "cell_type": "markdown",
   "metadata": {
    "collapsed": true,
    "deletable": true,
    "editable": true
   },
   "source": [
    "### Benchmark"
   ]
  },
  {
   "cell_type": "code",
   "execution_count": 11,
   "metadata": {
    "collapsed": false,
    "deletable": true,
    "editable": true
   },
   "outputs": [
    {
     "name": "stdout",
     "output_type": "stream",
     "text": [
      "[0.46464646464646464, 0.53535353535353536]\n"
     ]
    }
   ],
   "source": [
    "test_points = len(test_batches)*batch_size\n",
    "bench_candidate_1 = [0]*test_points\n",
    "bench_candidate_2 = [1]*test_points\n",
    "cand_accs = [accuracy_score(bench_candidate_1, test_y[:test_points]),accuracy_score(bench_candidate_2, test_y[:test_points])]\n",
    "print(cand_accs)"
   ]
  },
  {
   "cell_type": "markdown",
   "metadata": {
    "deletable": true,
    "editable": true
   },
   "source": [
    "We see that the benchmark candidate containing all 1's has the better accuracy score, which is .5377."
   ]
  },
  {
   "cell_type": "code",
   "execution_count": 12,
   "metadata": {
    "collapsed": false,
    "deletable": true,
    "editable": true
   },
   "outputs": [
    {
     "name": "stdout",
     "output_type": "stream",
     "text": [
      "0.348684210526\n"
     ]
    },
    {
     "name": "stderr",
     "output_type": "stream",
     "text": [
      "/home/carnd/anaconda3/envs/dl/lib/python3.5/site-packages/sklearn/metrics/classification.py:1115: UndefinedMetricWarning: F-score is ill-defined and being set to 0.0 in labels with no true samples.\n",
      "  'recall', 'true', average, warn_for)\n"
     ]
    }
   ],
   "source": [
    "bench_f_score = f1_score(bench_candidate_2, test_y[:test_points], labels=[0,1],average='macro')\n",
    "print(bench_f_score)"
   ]
  },
  {
   "cell_type": "markdown",
   "metadata": {
    "deletable": true,
    "editable": true
   },
   "source": [
    "The f-score for the benchmark is 0.3497.  The warning that is printed is expected.  We are taking the mean of the f-scores for both classes.  Because there are no true positives for class 0, the f-score for that class will have 0 in the denominator, and is thus undefined.  Therefore, it is set to 0."
   ]
  },
  {
   "cell_type": "code",
   "execution_count": 9,
   "metadata": {
    "collapsed": true,
    "deletable": true,
    "editable": true
   },
   "outputs": [],
   "source": []
  },
  {
   "cell_type": "code",
   "execution_count": null,
   "metadata": {
    "collapsed": false
   },
   "outputs": [],
   "source": [
    "data = pd.read_csv('../data/headlines_combined.csv', header=0)\n",
    "data['Combined'] = data.apply(lambda row: _split_remove_stopwords_tokenize_punc(row['Combined']), axis=1)\n",
    "\n",
    "words = set()\n",
    "for index, row in data.iterrows():\n",
    "    words.update(row[3])\n",
    "\n",
    "words_to_int = {word: index for index, word in enumerate(words)}"
   ]
  },
  {
   "cell_type": "code",
   "execution_count": null,
   "metadata": {
    "collapsed": false
   },
   "outputs": [],
   "source": [
    "int_to_words = {idx: word for word, idx in words_to_int.items()}"
   ]
  },
  {
   "cell_type": "code",
   "execution_count": 30,
   "metadata": {
    "collapsed": false,
    "scrolled": true
   },
   "outputs": [
    {
     "name": "stdout",
     "output_type": "stream",
     "text": [
      "rake\n",
      "ghg\n",
      "triggered\n",
      "ferraris\n",
      "hutton\n",
      "dagger\n"
     ]
    }
   ],
   "source": [
    "print(int_to_words[32931])\n",
    "print(int_to_words[28490])\n",
    "print(int_to_words[9990])\n",
    "print(int_to_words[21405])\n",
    "print(int_to_words[7427])\n",
    "print(int_to_words[40077])"
   ]
  },
  {
   "cell_type": "code",
   "execution_count": null,
   "metadata": {
    "collapsed": true
   },
   "outputs": [],
   "source": []
  }
 ],
 "metadata": {
  "anaconda-cloud": {},
  "kernelspec": {
   "display_name": "Python 3",
   "language": "python",
   "name": "python3"
  },
  "language_info": {
   "codemirror_mode": {
    "name": "ipython",
    "version": 3
   },
   "file_extension": ".py",
   "mimetype": "text/x-python",
   "name": "python",
   "nbconvert_exporter": "python",
   "pygments_lexer": "ipython3",
   "version": "3.6.0"
  }
 },
 "nbformat": 4,
 "nbformat_minor": 2
}
