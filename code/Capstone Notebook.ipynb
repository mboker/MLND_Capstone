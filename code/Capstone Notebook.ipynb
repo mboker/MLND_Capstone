{
 "cells": [
  {
   "cell_type": "code",
   "execution_count": 1,
   "metadata": {
    "collapsed": false,
    "deletable": true,
    "editable": true
   },
   "outputs": [],
   "source": [
    "%matplotlib inline\n",
    "\n",
    "import tensorflow as tf\n",
    "import numpy as np\n",
    "import pandas as pd \n",
    "import matplotlib.pyplot as plt\n",
    "import network.builders as bldrs\n",
    "from sklearn.metrics import accuracy_score, f1_score"
   ]
  },
  {
   "cell_type": "markdown",
   "metadata": {
    "deletable": true,
    "editable": true
   },
   "source": [
    "### Data Preprocessing"
   ]
  },
  {
   "cell_type": "markdown",
   "metadata": {
    "deletable": true,
    "editable": true
   },
   "source": [
    "First, get all of the data, and combine the 25 headlines into one string for each row, stripping the junk characters off of the beginnings and ends of the strings, and adding the delimiter token.  Save this to a new file as a checkpoint."
   ]
  },
  {
   "cell_type": "code",
   "execution_count": 2,
   "metadata": {
    "collapsed": true,
    "deletable": true,
    "editable": true
   },
   "outputs": [],
   "source": [
    "data = pd.read_csv('../data/Combined_News_DJIA.csv', header=0, na_values=[])\n",
    "data.fillna('', inplace=True)\n",
    "data['Combined'] = ''\n",
    "for i in range(1, 26):\n",
    "    data['Combined'] += ' ||new_headline|| ' + \\\n",
    "                        data['Top'+str(i)].str.strip('b\\\\\\'\" ')\n",
    "    data = data.drop('Top'+str(i), axis=1)\n",
    "\n",
    "data.to_csv('../data/headlines_combined.csv')"
   ]
  },
  {
   "cell_type": "markdown",
   "metadata": {
    "deletable": true,
    "editable": true
   },
   "source": [
    "Now, split the combined strings into lists of words, remove stop words, and tokenize these lists."
   ]
  },
  {
   "cell_type": "code",
   "execution_count": 3,
   "metadata": {
    "collapsed": false,
    "deletable": true,
    "editable": true
   },
   "outputs": [],
   "source": [
    "from nltk import word_tokenize\n",
    "from nltk.corpus import stopwords\n",
    "\n",
    "#make sure to run\n",
    "#nltk.download()\n",
    "punc_tokens = {'.': '||period||',\n",
    "               ',': '||comma||',\n",
    "               '\"': '||quotation||',\n",
    "               ';': '||semicolon||',\n",
    "               '!': '||exclamation||',\n",
    "               '?': '||question||',\n",
    "               '(': '||left_paren||',\n",
    "               ')': '||right_paren||',\n",
    "               '--': '||hyphen||',\n",
    "               '-': '||hyphen||',\n",
    "               ':': '||colon||',\n",
    "               '[': '||left_brack||',\n",
    "               ']': '||right_brack||',\n",
    "               '{': '||left_curly||',\n",
    "               '}': '||right_curly||',\n",
    "               '\\n': '||newline||'}\n",
    "\n",
    "\n",
    "def _split_remove_stopwords_tokenize_punc(combined_string):\n",
    "    words = word_tokenize(combined_string)\n",
    "    words = [word for word in words if word not in stopwords.words('english')]\n",
    "    return [word.lower() if word not in punc_tokens.keys() else punc_tokens[word] for word in words]\n",
    "\n",
    "\n",
    "def _tokenize_word_lists(row_list, words_to_int):\n",
    "    return ' '.join([str(words_to_int[word]) for word in row_list])\n",
    "\n",
    "\n",
    "def do_split():\n",
    "    data = pd.read_csv('../data/headlines_combined.csv', header=0)\n",
    "    data['Combined'] = data.apply(lambda row: _split_remove_stopwords_tokenize_punc(row['Combined']), axis=1)\n",
    "\n",
    "    words = set()\n",
    "    for index, row in data.iterrows():\n",
    "        words.update(row[3])\n",
    "\n",
    "    words_to_int = {word: index for index, word in enumerate(words)}\n",
    "\n",
    "    data['Combined'] = data.apply(lambda row: _tokenize_word_lists(row['Combined'], words_to_int), axis=1)\n",
    "\n",
    "    data.to_csv('../data/tokenized_headlines.csv')"
   ]
  },
  {
   "cell_type": "code",
   "execution_count": 4,
   "metadata": {
    "collapsed": false,
    "deletable": true,
    "editable": true
   },
   "outputs": [],
   "source": [
    "do_split()"
   ]
  },
  {
   "cell_type": "markdown",
   "metadata": {
    "deletable": true,
    "editable": true
   },
   "source": [
    "### Network Parameters"
   ]
  },
  {
   "cell_type": "code",
   "execution_count": 21,
   "metadata": {
    "collapsed": false,
    "deletable": true,
    "editable": true
   },
   "outputs": [],
   "source": [
    "file_path = '../data/tokenized_headlines.csv'\n",
    "#string creation and batch hyperparameters\n",
    "split_frac = 0.8\n",
    "batch_size = 198\n",
    "length = 420\n",
    "subsample_thresh = 10**-1\n",
    "#network hyperparameters\n",
    "num_epochs = 100\n",
    "rnn_size = 16\n",
    "embed_dim = 150\n",
    "learning_rate = 0.001\n",
    "dropout_keep_rate = 0.3"
   ]
  },
  {
   "cell_type": "markdown",
   "metadata": {
    "deletable": true,
    "editable": true
   },
   "source": [
    "### Get Data and Create Batches"
   ]
  },
  {
   "cell_type": "code",
   "execution_count": 22,
   "metadata": {
    "collapsed": false,
    "deletable": true,
    "editable": true
   },
   "outputs": [],
   "source": [
    "data, vocab = bldrs.get_data_and_vocab(file_path)\n",
    "train_x, val_x, test_x, train_y, val_y, test_y = bldrs.get_data_splits(split_frac, data)\n",
    "train_x, val_x, test_x = bldrs.create_lists_and_filter(train_x, val_x, test_x, subsample_thresh)\n",
    "train_batches = bldrs.get_batches_and_pad(train_x, train_y, batch_size, length)\n",
    "val_batches = bldrs.get_batches_and_pad(val_x, val_y, batch_size, length)\n",
    "test_batches = bldrs.get_batches_and_pad(test_x, test_y, batch_size, length)\n",
    "vocab_size = len(vocab)"
   ]
  },
  {
   "cell_type": "markdown",
   "metadata": {
    "deletable": true,
    "editable": true
   },
   "source": [
    "### Build Network"
   ]
  },
  {
   "cell_type": "code",
   "execution_count": 23,
   "metadata": {
    "collapsed": false,
    "deletable": true,
    "editable": true
   },
   "outputs": [],
   "source": [
    "train_graph = tf.Graph()\n",
    "logs_path = 'logs/'\n",
    "with train_graph.as_default():\n",
    "    inputs, targets = bldrs.build_inputs_and_targets()\n",
    "    keep_prob = tf.placeholder(tf.float32, name='keep_prob')\n",
    "    input_shape = tf.shape(inputs)\n",
    "    embedding_layer = bldrs.build_embedding_layer(inputs, vocab_size, embed_dim)\n",
    "    cell, initial_state = bldrs.build_lstm_cell(rnn_size, batch_size, keep_prob)\n",
    "    rnn, final_state = bldrs.build_rnn(cell, embedding_layer)\n",
    "    predictions = tf.contrib.layers.fully_connected(inputs=rnn[:,-1],\n",
    "                                               num_outputs=1,\n",
    "                                               activation_fn=tf.sigmoid,\n",
    "                                               weights_initializer=tf.truncated_normal_initializer(),\n",
    "                                               biases_initializer=tf.zeros_initializer(),\n",
    "                                               trainable=True)\n",
    "    cost = tf.losses.mean_squared_error(targets, predictions)\n",
    "    optimizer = tf.train.AdamOptimizer(learning_rate).minimize(cost)\n",
    "    saver = tf.train.Saver()\n",
    "    correct_pred = tf.equal(tf.cast(tf.round(predictions), tf.int32), targets)\n",
    "    return_predictions = tf.cast(tf.round(predictions), tf.int32)\n",
    "    accuracy = tf.reduce_mean(tf.cast(correct_pred, tf.float32))\n"
   ]
  },
  {
   "cell_type": "markdown",
   "metadata": {
    "deletable": true,
    "editable": true
   },
   "source": [
    "### Train Network"
   ]
  },
  {
   "cell_type": "code",
   "execution_count": null,
   "metadata": {
    "collapsed": false,
    "deletable": true,
    "editable": true
   },
   "outputs": [
    {
     "name": "stdout",
     "output_type": "stream",
     "text": [
      "Epoch: 0/100 Iteration: 5 Train Loss: 0.314\n",
      "Epoch: 1/100 Iteration: 10 Train Loss: 0.287\n",
      "Epoch: 1/100 Iteration: 15 Train Loss: 0.290\n",
      "Epoch: 2/100 Iteration: 20 Train Loss: 0.257\n",
      "Epoch: 3/100 Iteration: 25 Train Loss: 0.283\n",
      "Validation Accuracy: 0.520\n",
      "Epoch: 3/100 Iteration: 30 Train Loss: 0.287\n",
      "Epoch: 4/100 Iteration: 35 Train Loss: 0.237\n",
      "Epoch: 4/100 Iteration: 40 Train Loss: 0.249\n",
      "Epoch: 5/100 Iteration: 45 Train Loss: 0.245\n",
      "Epoch: 6/100 Iteration: 50 Train Loss: 0.235\n",
      "Validation Accuracy: 0.520\n",
      "Epoch: 6/100 Iteration: 55 Train Loss: 0.239\n",
      "Epoch: 7/100 Iteration: 60 Train Loss: 0.233\n"
     ]
    }
   ],
   "source": [
    "training_losses = []\n",
    "val_losses = [] \n",
    "with train_graph.as_default():\n",
    "    saver = tf.train.Saver()\n",
    "    \n",
    "with tf.Session(graph=train_graph) as sess:\n",
    "    sess.run(tf.global_variables_initializer())\n",
    "    file_writer = tf.summary.FileWriter('./logs/1', sess.graph)\n",
    "    iteration = 1\n",
    "    for e in range(num_epochs):\n",
    "        state = sess.run(initial_state)\n",
    "\n",
    "        for index, batch in enumerate(train_batches):\n",
    "            feed = {inputs: batch['headlines'],\n",
    "                    targets: batch['labels'][:, None],\n",
    "                    keep_prob: dropout_keep_rate,\n",
    "                    initial_state: state}\n",
    "            loss, state, _ = sess.run([cost, final_state, optimizer], feed_dict=feed)\n",
    "            \n",
    "            training_losses.append(loss)\n",
    "            \n",
    "            if iteration%5==0:\n",
    "                print('Epoch: {}/{}'.format(e, num_epochs),\n",
    "                      'Iteration: {}'.format(iteration),\n",
    "                      'Train Loss: {:.3f}'.format(loss))\n",
    "\n",
    "                # VALIDATE\n",
    "                val_acc = []\n",
    "                val_state = sess.run(cell.zero_state(batch_size, tf.float32))\n",
    "                for val_index, val_batch in enumerate(val_batches):\n",
    "                    feed = {inputs: val_batch['headlines'],\n",
    "                            targets: val_batch['labels'][:, None],\n",
    "                            keep_prob: 1,\n",
    "                            initial_state: val_state}\n",
    "                    batch_cost, batch_acc, val_state = sess.run([cost, accuracy, final_state], feed_dict=feed)\n",
    "                    val_acc.append(batch_acc)\n",
    "                    val_losses.append([batch_cost]*5)\n",
    "                if iteration%25==0:\n",
    "                    print(\"Validation Accuracy: {:.3f}\".format(np.mean(val_acc)))\n",
    "            iteration += 1\n",
    "        saver.save(sess,\"checkpoints/sentiment.ckpt\")"
   ]
  },
  {
   "cell_type": "markdown",
   "metadata": {},
   "source": [
    "### Plot Learning Curves"
   ]
  },
  {
   "cell_type": "code",
   "execution_count": 20,
   "metadata": {
    "collapsed": false,
    "deletable": true,
    "editable": true
   },
   "outputs": [
    {
     "data": {
      "text/plain": [
       "<matplotlib.legend.Legend at 0x7f53c53e9c88>"
      ]
     },
     "execution_count": 20,
     "metadata": {},
     "output_type": "execute_result"
    },
    {
     "data": {
      "image/png": "[encoded data removed]",
      "text/plain": [
       "<matplotlib.figure.Figure at 0x7f53c55c7898>"
      ]
     },
     "metadata": {},
     "output_type": "display_data"
    }
   ],
   "source": [
    "val_losses_flat = [value for sublist in val_losses for value in sublist]\n",
    "plt.plot(training_losses, label='Training')\n",
    "plt.plot(val_losses_flat, label='Validation')\n",
    "plt.ylabel('Loss')\n",
    "plt.xlabel('Iteration')\n",
    "\n",
    "plt.legend()"
   ]
  },
  {
   "cell_type": "markdown",
   "metadata": {},
   "source": [
    "### Test Network"
   ]
  },
  {
   "cell_type": "code",
   "execution_count": 10,
   "metadata": {
    "collapsed": false
   },
   "outputs": [
    {
     "name": "stdout",
     "output_type": "stream",
     "text": [
      "INFO:tensorflow:Restoring parameters from checkpoints/sentiment.ckpt\n",
      "Test Accuracy: 0.535\n",
      "Test F score: 0.349\n"
     ]
    },
    {
     "name": "stderr",
     "output_type": "stream",
     "text": [
      "/home/carnd/anaconda3/envs/dl/lib/python3.5/site-packages/sklearn/metrics/classification.py:1115: UndefinedMetricWarning: F-score is ill-defined and being set to 0.0 in labels with no true samples.\n",
      "  'recall', 'true', average, warn_for)\n"
     ]
    }
   ],
   "source": [
    "test_acc = []\n",
    "test_pred = []\n",
    "with tf.Session(graph=train_graph) as sess:\n",
    "    saver.restore(sess, tf.train.latest_checkpoint('checkpoints'))\n",
    "    test_state = sess.run(cell.zero_state(batch_size, tf.float32))\n",
    "    for test_index, test_batch in enumerate(test_batches):\n",
    "        feed = {inputs: test_batch['headlines'],\n",
    "                targets: test_batch['labels'][:, None],\n",
    "                keep_prob: 1.0,\n",
    "                initial_state: test_state}\n",
    "        test_batch_acc, test_state, test_batch_pred = sess.run([accuracy, final_state, return_predictions], feed_dict=feed)\n",
    "        test_batch_acc, test_state = sess.run([accuracy, final_state], feed_dict=feed)\n",
    "        test_acc.append(test_batch_acc)\n",
    "        test_pred.append(test_batch_pred)\n",
    "    print(\"Test Accuracy: {:.3f}\".format(np.mean(test_acc)))\n",
    "    print(\"Test F score: {:.3f}\".format(f1_score([value[0] for sublist in test_pred for value in sublist], test_y[:batch_size],\n",
    "                                                labels=[0,1],average='macro')))\n",
    "    "
   ]
  },
  {
   "cell_type": "markdown",
   "metadata": {
    "collapsed": true,
    "deletable": true,
    "editable": true
   },
   "source": [
    "### Benchmark"
   ]
  },
  {
   "cell_type": "code",
   "execution_count": 11,
   "metadata": {
    "collapsed": false,
    "deletable": true,
    "editable": true
   },
   "outputs": [
    {
     "name": "stdout",
     "output_type": "stream",
     "text": [
      "[0.46464646464646464, 0.53535353535353536]\n"
     ]
    }
   ],
   "source": [
    "test_points = len(test_batches)*batch_size\n",
    "bench_candidate_1 = [0]*test_points\n",
    "bench_candidate_2 = [1]*test_points\n",
    "cand_accs = [accuracy_score(bench_candidate_1, test_y[:test_points]),accuracy_score(bench_candidate_2, test_y[:test_points])]\n",
    "print(cand_accs)"
   ]
  },
  {
   "cell_type": "markdown",
   "metadata": {
    "deletable": true,
    "editable": true
   },
   "source": [
    "We see that the benchmark candidate containing all 1's has the better accuracy score, which is .5377."
   ]
  },
  {
   "cell_type": "code",
   "execution_count": 12,
   "metadata": {
    "collapsed": false,
    "deletable": true,
    "editable": true
   },
   "outputs": [
    {
     "name": "stdout",
     "output_type": "stream",
     "text": [
      "0.348684210526\n"
     ]
    },
    {
     "name": "stderr",
     "output_type": "stream",
     "text": [
      "/home/carnd/anaconda3/envs/dl/lib/python3.5/site-packages/sklearn/metrics/classification.py:1115: UndefinedMetricWarning: F-score is ill-defined and being set to 0.0 in labels with no true samples.\n",
      "  'recall', 'true', average, warn_for)\n"
     ]
    }
   ],
   "source": [
    "bench_f_score = f1_score(bench_candidate_2, test_y[:test_points], labels=[0,1],average='macro')\n",
    "print(bench_f_score)"
   ]
  },
  {
   "cell_type": "markdown",
   "metadata": {
    "deletable": true,
    "editable": true
   },
   "source": [
    "The f-score for the benchmark is 0.3497.  The warning that is printed is expected.  We are taking the mean of the f-scores for both classes.  Because there are no true positives for class 0, the f-score for that class will have 0 in the denominator, and is thus undefined.  Therefore, it is set to 0."
   ]
  },
  {
   "cell_type": "code",
   "execution_count": null,
   "metadata": {
    "collapsed": true,
    "deletable": true,
    "editable": true
   },
   "outputs": [],
   "source": []
  }
 ],
 "metadata": {
  "anaconda-cloud": {},
  "kernelspec": {
   "display_name": "Python 3",
   "language": "python",
   "name": "python3"
  },
  "language_info": {
   "codemirror_mode": {
    "name": "ipython",
    "version": 3
   },
   "file_extension": ".py",
   "mimetype": "text/x-python",
   "name": "python",
   "nbconvert_exporter": "python",
   "pygments_lexer": "ipython3",
   "version": "3.5.2"
  },
  "widgets": {
   "state": {},
   "version": "1.1.2"
  }
 },
 "nbformat": 4,
 "nbformat_minor": 2
}
